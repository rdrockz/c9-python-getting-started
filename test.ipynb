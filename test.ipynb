{
 "cells": [
  {
   "cell_type": "code",
   "execution_count": 122,
   "metadata": {},
   "outputs": [],
   "source": [
    "def dig_pow(n, p):\n",
    "    # creating a placholder\n",
    "    length = len(str(n))\n",
    "    total=0\n",
    "    for digits in range(1,length):\n",
    "        \n",
    "        a= n % (10**digits)\n",
    "        print(a)\n",
    "        total+= (a ** (p+length-digits))\n",
    "        print(total)\n",
    "    if total % n==0:\n",
    "        return total //n\n",
    "    else:\n",
    "        return -1       \n"
   ]
  },
  {
   "cell_type": "code",
   "execution_count": 123,
   "metadata": {},
   "outputs": [
    {
     "output_type": "stream",
     "name": "stdout",
     "text": "8\n2097152\n88\n464406183936\n288\n2445761839104\n6288\n1565773854474240\n"
    },
    {
     "output_type": "execute_result",
     "data": {
      "text/plain": "-1"
     },
     "metadata": {},
     "execution_count": 123
    }
   ],
   "source": [
    "dig_pow(46288,3) # SHOULD RETURN 51 as 4³ + 6⁴+ 2⁵ + 8⁶ + 8⁷ = 2360688 = 46288 * 51"
   ]
  },
  {
   "cell_type": "code",
   "execution_count": 124,
   "metadata": {},
   "outputs": [],
   "source": [
    "def dig_pow(n, p):\n",
    "    # by list comprehension\n",
    "    total=0\n",
    "    new_p=int(p)\n",
    "    for digit in str(n):\n",
    "        #a= n % (10**digits)\n",
    "        #print(a)\n",
    "        print(digit)\n",
    "        total += (int(digit) ** new_p)\n",
    "        new_p+=1\n",
    "        print(total)\n",
    "    if total % n==0:\n",
    "        return total //n\n",
    "    else:\n",
    "        return -1       \n"
   ]
  },
  {
   "cell_type": "code",
   "execution_count": 125,
   "metadata": {},
   "outputs": [
    {
     "output_type": "stream",
     "name": "stdout",
     "text": "4\n64\n6\n1360\n2\n1392\n8\n263536\n8\n2360688\n"
    },
    {
     "output_type": "execute_result",
     "data": {
      "text/plain": "51"
     },
     "metadata": {},
     "execution_count": 125
    }
   ],
   "source": [
    "dig_pow(46288,3)"
   ]
  },
  {
   "cell_type": "code",
   "execution_count": 126,
   "metadata": {},
   "outputs": [],
   "source": [
    "def openOrSenior(data):\n",
    "    # List of List and make a newList\n",
    "    newList =[]\n",
    "    \n",
    "    for a,b in data:\n",
    "        print (a,b)\n",
    "        #if #more than 60 and more than 7\n",
    "        \n",
    "        #newList.append(\"Senior\")\n",
    "        \n",
    "        #else:\n",
    "        #newList.append(\"Open\")\n",
    "    \n",
    "    \n",
    "    #return new_list\n",
    "    "
   ]
  },
  {
   "cell_type": "code",
   "execution_count": 127,
   "metadata": {},
   "outputs": [
    {
     "output_type": "stream",
     "name": "stdout",
     "text": "45 12\n55 21\n19 -2\n104 20\n"
    }
   ],
   "source": [
    "openOrSenior([[45, 12],[55,21],[19, -2],[104, 20]])"
   ]
  },
  {
   "cell_type": "code",
   "execution_count": 128,
   "metadata": {},
   "outputs": [],
   "source": [
    "def dirReduc(arr):\n",
    "    # so n is +1 and s is -1 for vertical, so is the case for e and w for horizontal\n",
    "    # reduce function to return [] \n",
    "    # might have to use recursive\n",
    "    newList =[]\n",
    "    #newArray =[]\n",
    "    for i,dir in enumerate(arr):\n",
    "        #print (dir)\n",
    "        print (arr[i])\n",
    "        if arr[i] == \"NORTH\" and arr[i+1]!= \"SOUTH\" or arr[i] == \"EAST\" and arr[i+1]!= \"WEST\"  :\n",
    "           print (arr[i])\n",
    "\n",
    "                \n",
    "        #if newArray.append(dir)    \n",
    "        \n",
    "        \n",
    "    return arr"
   ]
  },
  {
   "cell_type": "code",
   "execution_count": 129,
   "metadata": {},
   "outputs": [
    {
     "output_type": "stream",
     "name": "stdout",
     "text": "NORTH\nSOUTH\nSOUTH\nEAST\nWEST\nNORTH\nNORTH\nWEST\n"
    },
    {
     "output_type": "execute_result",
     "data": {
      "text/plain": "['NORTH', 'SOUTH', 'SOUTH', 'EAST', 'WEST', 'NORTH', 'WEST']"
     },
     "metadata": {},
     "execution_count": 129
    }
   ],
   "source": [
    "a = [\"NORTH\", \"SOUTH\", \"SOUTH\", \"EAST\", \"WEST\", \"NORTH\", \"WEST\"]\n",
    "dirReduc(a) # West"
   ]
  },
  {
   "cell_type": "code",
   "execution_count": 130,
   "metadata": {},
   "outputs": [],
   "source": [
    "#Check if North and South are adjacent,\n",
    "\n",
    "def dirReduc(arr):\n",
    "    newList=[]\n",
    "    for i, element in enumerate(arr):\n",
    "        previous_element = arr[i-1] if i > 0 else None\n",
    "        current_element = element\n",
    "        if current_element is \"NORTH\" and previous_element is not \"SOUTH\":\n",
    "            newList.append(\"NORTH\")\n",
    "        elif current_element is \"SOUTH\" and previous_element is not \"NORTH\":\n",
    "            newList.append(\"SOUTH\")\n",
    "        elif current_element is \"EAST\" and previous_element is not \"WEST\":\n",
    "            newList.append(\"EAST\")   \n",
    "        elif current_element is \"WEST\" and previous_element is not \"EAST\":\n",
    "            newList.append(\"WEST\")\n",
    "\n",
    "        #if dir== \"NORTH\" and newList[i-1]\n",
    "        #newList[i].append(dir) \n",
    "    #if dir[i] == \"NORTH\" and dir[i+1] == \"SOUTH\":\n",
    "       # dir.pop(i)\n",
    "    print (newList)\n"
   ]
  },
  {
   "cell_type": "code",
   "execution_count": 131,
   "metadata": {},
   "outputs": [
    {
     "output_type": "error",
     "ename": "SyntaxError",
     "evalue": "invalid syntax (<ipython-input-131-465771cc5b09>, line 4)",
     "traceback": [
      "\u001b[1;36m  File \u001b[1;32m\"<ipython-input-131-465771cc5b09>\"\u001b[1;36m, line \u001b[1;32m4\u001b[0m\n\u001b[1;33m    if element in dir\u001b[0m\n\u001b[1;37m                     ^\u001b[0m\n\u001b[1;31mSyntaxError\u001b[0m\u001b[1;31m:\u001b[0m invalid syntax\n"
     ]
    }
   ],
   "source": [
    "def dirReduc(arr):\n",
    "    dir = [\"NORTH\",\"SOUTH\",\"EAST\",\"WEST\"]\n",
    "    for i,element in enumerate[arr]:\n",
    "        if element in dir\n",
    "\n",
    "       # dir = [(\"NORTH\",\"SOUTH\"),(\"EAST\",\"WEST\"),(\"SOUTH\",\"NORTH\"),(\"WEST\",\"EAST\")]\n",
    "'for i, element in enumerate(mylist):\n",
    "    previous_element = mylist[i-1] if i > 0 else None\n",
    "    current_element = element\n",
    "    next_element = mylist[i+1] if i < len(mylist)-1 else None\n",
    "    print(previous_element, current_element, next_element)"
   ]
  },
  {
   "cell_type": "code",
   "execution_count": 132,
   "metadata": {},
   "outputs": [],
   "source": [
    "a = [\"NORTH\", \"SOUTH\", \"SOUTH\", \"EAST\", \"WEST\", \"NORTH\", \"WEST\"]\n",
    "#dirReduc(a) # West \n",
    "arr=a\n",
    "dir = [(\"NORTH\",\"SOUTH\"),(\"EAST\",\"WEST\"),(\"SOUTH\",\"NORTH\"),(\"WEST\",\"EAST\")]\n",
    "def tup(a):\n",
    "    if len(a) % 2 != 0:\n",
    "        listTup= list(zip(a[::2],a[+1::2]))\n",
    "        listTup.append(a[-1])\n",
    "    else:\n",
    "        listTup= list(zip(arr[::2],arr[+1::2]))\n",
    "\n",
    "    return listTup\n",
    "\n",
    "\n",
    "\n",
    "#i=iter(arr)\n",
    "#if i in dir and i.next()=="
   ]
  },
  {
   "cell_type": "code",
   "execution_count": 133,
   "metadata": {},
   "outputs": [],
   "source": [
    "def dirReduc(arr):\n",
    "    dir = [(\"NORTH\",\"SOUTH\"),(\"EAST\",\"WEST\"),(\"SOUTH\",\"NORTH\"),(\"WEST\",\"EAST\")]\n",
    "    \n",
    "    def tup(a):\n",
    "        if len(a) % 2 != 0:\n",
    "            listTup= list(zip(a[::2],a[+1::2]))\n",
    "            listTup.append(a[-1])\n",
    "        else:\n",
    "            listTup= list(zip(arr[::2],arr[+1::2]))\n",
    "\n",
    "        return listTup\n",
    "    \n",
    "    new=[]\n",
    "    tuplist=tup(arr)\n",
    "    print (tuplist)\n",
    "    \n",
    "    if dir in tuplist :\n",
    "        print(\"y\")\n",
    "    else:\n",
    "        print(\"nah\")\n",
    "        print (dir)\n",
    "    while dir in tuplist:\n",
    "        new= (x for x in tuplist if x not in dir)\n",
    "        tuplist =dirReduc(new)\n",
    "        print(new)\n",
    "       #l3 = [x for x in l1 if x not in l2]\n",
    "    #else:\n",
    "     #   pass\n",
    "    #print(a)\n",
    "   "
   ]
  },
  {
   "cell_type": "code",
   "execution_count": 134,
   "metadata": {},
   "outputs": [
    {
     "output_type": "stream",
     "name": "stdout",
     "text": "[('NORTH', 'SOUTH'), ('SOUTH', 'EAST'), ('WEST', 'NORTH'), 'WEST']\nnah\n[('NORTH', 'SOUTH'), ('EAST', 'WEST'), ('SOUTH', 'NORTH'), ('WEST', 'EAST')]\n"
    }
   ],
   "source": [
    "a = [\"NORTH\", \"SOUTH\", \"SOUTH\", \"EAST\", \"WEST\", \"NORTH\", \"WEST\"]\n",
    "dirReduc(a) # West"
   ]
  },
  {
   "cell_type": "code",
   "execution_count": 135,
   "metadata": {},
   "outputs": [],
   "source": [
    "def dirReduc(arr):  \n",
    "    def tup(a):\n",
    "        if len(a) % 2 != 0:\n",
    "            listTup= list(zip(a[::2],a[+1::2]))\n",
    "            listTup.append(a[-1])\n",
    "        else:\n",
    "            listTup= list(zip(arr[::2],arr[+1::2]))\n",
    "\n",
    "        return listTup\n",
    "\n",
    "    new= tup(arr)\n",
    "    old=[]\n",
    "    dir = [(\"NORTH\",\"SOUTH\"),(\"EAST\",\"WEST\"),(\"SOUTH\",\"NORTH\"),(\"WEST\",\"EAST\")]\n",
    "    #recursive\n",
    "    while len(old)== len(new):\n",
    "        \n",
    "        old= tup(new)\n",
    "        new= [element for element in old if element not in dir ]\n",
    "        new= [x for t in new for x in t if len(x)>1]\n",
    "        #and element for x in new fro element in x\n",
    "        print (list(new))\n",
    "        #old=new\n",
    "        #print (old)\n",
    "    \n",
    "    #print (new)"
   ]
  },
  {
   "cell_type": "code",
   "execution_count": 136,
   "metadata": {},
   "outputs": [],
   "source": [
    "a = [\"NORTH\", \"SOUTH\", \"SOUTH\", \"EAST\", \"WEST\", \"NORTH\", \"WEST\"]\n",
    "dirReduc(a) # West\n"
   ]
  },
  {
   "cell_type": "code",
   "execution_count": 137,
   "metadata": {},
   "outputs": [],
   "source": [
    "def dirReduc(arr):  \n",
    "    def tup(a):\n",
    "        if len(a) % 2 != 0:\n",
    "            listTup= list(zip(a[::2],a[+1::2]))\n",
    "            listTup.append(a[-1])\n",
    "        else:\n",
    "            listTup= list(zip(arr[::2],arr[+1::2]))\n",
    "\n",
    "        return listTup\n",
    "    a=arr\n",
    "    old= tup(a)\n",
    "    new=[]\n",
    "    dir = [(\"NORTH\",\"SOUTH\"),(\"EAST\",\"WEST\"),(\"SOUTH\",\"NORTH\"),(\"WEST\",\"EAST\")]\n",
    "    #recursive?\n",
    "    if len(old) != len(new):     \n",
    "        #old= tup(new)\n",
    "        new= [element for element in old if element not in dir ]\n",
    "        print(new)\n",
    "        #new= [element for tup in new for element in new ]\n",
    "        #new= [element for t in new for element in t if len(element)>1]\n",
    "        #and element for x in new fro element in x\n",
    "        print (list(new))\n",
    "        #old=new\n",
    "        #print (old)\n",
    "    else:\n",
    "        print (new)"
   ]
  },
  {
   "cell_type": "code",
   "execution_count": 138,
   "metadata": {},
   "outputs": [
    {
     "output_type": "stream",
     "name": "stdout",
     "text": "[('SOUTH', 'EAST'), ('WEST', 'NORTH'), 'WEST']\n[('SOUTH', 'EAST'), ('WEST', 'NORTH'), 'WEST']\n"
    }
   ],
   "source": [
    "a = [\"NORTH\", \"SOUTH\", \"SOUTH\", \"EAST\", \"WEST\", \"NORTH\", \"WEST\"]\n",
    "dirReduc(a) # West"
   ]
  },
  {
   "cell_type": "markdown",
   "metadata": {},
   "source": [
    "   if arr[index]==\"NORTH\" and tempList[index+1]!=\"SOUTH\" :#or arr[index]==\"SOUTH\" and tempList[index+1]!=\"NORTH\" :\n",
    "            newList.append(arr[index])\n",
    "        #elif arr[index]==\"EAST\" and tempList[index+1]!=\"WEST\" or arr[index]==\"WEST\" and tempList[index+1]!=\"EAST\" :\n",
    "            newList.append(arr[index])\n",
    "        else:\n",
    "            pass   \n",
    "    #while len(newList)==len(tempList):\n",
    "        #print(newList)\n",
    "        #dirReduc(newList)\n",
    "    print(newList)"
   ]
  },
  {
   "cell_type": "code",
   "execution_count": 259,
   "metadata": {},
   "outputs": [],
   "source": [
    "def dirReduc(arr):\n",
    "    tempList= arr\n",
    "    newList=[]\n",
    "    #print(arr)\n",
    "    dir = [(\"NORTH\",\"SOUTH\"),(\"EAST\",\"WEST\"),(\"SOUTH\",\"NORTH\"),(\"WEST\",\"EAST\")]\n",
    "    #print (dir)\n",
    "    for index in range(len(arr)-1):\n",
    "        \n",
    "        #for i in range(len(dir)):\n",
    "            \n",
    "        #if  [(zip(arr[::],tempList[1::]))] not in dir[:]:\n",
    "            #newList.append(arr[index+1])\n",
    "\n",
    "            #print(list(zip(arr[::],tempList[+1::])))\n",
    "        if [list(zip(arr[index:],tempList[index+1:]))] not in [(x for x in dir)]:\n",
    "            newList.append(arr[index+1])\n",
    "            #else:\n",
    "                #pass\n",
    "    print(newList)\n",
    "\n",
    "            \n",
    "\n",
    "\n"
   ]
  },
  {
   "cell_type": "code",
   "execution_count": 260,
   "metadata": {
    "tags": [
     "outputPrepend",
     "outputPrepend",
     "outputPrepend",
     "outputPrepend",
     "outputPrepend",
     "outputPrepend",
     "outputPrepend",
     "outputPrepend",
     "outputPrepend",
     "outputPrepend",
     "outputPrepend",
     "outputPrepend",
     "outputPrepend",
     "outputPrepend",
     "outputPrepend",
     "outputPrepend",
     "outputPrepend",
     "outputPrepend",
     "outputPrepend",
     "outputPrepend",
     "outputPrepend",
     "outputPrepend",
     "outputPrepend",
     "outputPrepend",
     "outputPrepend",
     "outputPrepend",
     "outputPrepend",
     "outputPrepend",
     "outputPrepend",
     "outputPrepend",
     "outputPrepend",
     "outputPrepend",
     "outputPrepend",
     "outputPrepend",
     "outputPrepend",
     "outputPrepend",
     "outputPrepend",
     "outputPrepend",
     "outputPrepend",
     "outputPrepend",
     "outputPrepend",
     "outputPrepend",
     "outputPrepend",
     "outputPrepend",
     "outputPrepend",
     "outputPrepend",
     "outputPrepend",
     "outputPrepend",
     "outputPrepend",
     "outputPrepend",
     "outputPrepend",
     "outputPrepend",
     "outputPrepend",
     "outputPrepend",
     "outputPrepend",
     "outputPrepend",
     "outputPrepend",
     "outputPrepend",
     "outputPrepend",
     "outputPrepend",
     "outputPrepend",
     "outputPrepend",
     "outputPrepend",
     "outputPrepend",
     "outputPrepend",
     "outputPrepend",
     "outputPrepend",
     "outputPrepend",
     "outputPrepend",
     "outputPrepend",
     "outputPrepend",
     "outputPrepend",
     "outputPrepend",
     "outputPrepend",
     "outputPrepend",
     "outputPrepend",
     "outputPrepend",
     "outputPrepend",
     "outputPrepend",
     "outputPrepend",
     "outputPrepend",
     "outputPrepend",
     "outputPrepend",
     "outputPrepend",
     "outputPrepend",
     "outputPrepend",
     "outputPrepend",
     "outputPrepend",
     "outputPrepend",
     "outputPrepend",
     "outputPrepend",
     "outputPrepend",
     "outputPrepend",
     "outputPrepend",
     "outputPrepend",
     "outputPrepend",
     "outputPrepend",
     "outputPrepend",
     "outputPrepend",
     "outputPrepend",
     "outputPrepend",
     "outputPrepend",
     "outputPrepend",
     "outputPrepend",
     "outputPrepend",
     "outputPrepend",
     "outputPrepend",
     "outputPrepend",
     "outputPrepend",
     "outputPrepend",
     "outputPrepend",
     "outputPrepend",
     "outputPrepend",
     "outputPrepend",
     "outputPrepend",
     "outputPrepend",
     "outputPrepend",
     "outputPrepend",
     "outputPrepend",
     "outputPrepend",
     "outputPrepend",
     "outputPrepend",
     "outputPrepend",
     "outputPrepend",
     "outputPrepend",
     "outputPrepend",
     "outputPrepend",
     "outputPrepend",
     "outputPrepend",
     "outputPrepend",
     "outputPrepend",
     "outputPrepend",
     "outputPrepend",
     "outputPrepend",
     "outputPrepend",
     "outputPrepend",
     "outputPrepend",
     "outputPrepend",
     "outputPrepend",
     "outputPrepend",
     "outputPrepend",
     "outputPrepend",
     "outputPrepend",
     "outputPrepend",
     "outputPrepend",
     "outputPrepend",
     "outputPrepend",
     "outputPrepend",
     "outputPrepend",
     "outputPrepend",
     "outputPrepend",
     "outputPrepend",
     "outputPrepend",
     "outputPrepend",
     "outputPrepend",
     "outputPrepend",
     "outputPrepend",
     "outputPrepend",
     "outputPrepend",
     "outputPrepend",
     "outputPrepend",
     "outputPrepend"
    ]
   },
   "outputs": [
    {
     "output_type": "stream",
     "name": "stdout",
     "text": "['SOUTH', 'SOUTH', 'EAST', 'WEST']\n"
    }
   ],
   "source": [
    "dirReduc([\"NORTH\",\"SOUTH\",\"SOUTH\",\"EAST\",\"WEST\"])"
   ]
  },
  {
   "cell_type": "code",
   "execution_count": 295,
   "metadata": {},
   "outputs": [
    {
     "output_type": "stream",
     "name": "stdout",
     "text": "{'N': 0, 'S': 1, 'E': 0, 'W': 0}\n"
    }
   ],
   "source": [
    "dirReduc([\"NORTH\",\"SOUTH\",\"SOUTH\",\"EAST\",\"WEST\"])"
   ]
  },
  {
   "cell_type": "code",
   "execution_count": 299,
   "metadata": {},
   "outputs": [],
   "source": [
    "def dirReduc(arr):\n",
    "    turtle ={'N':0,'S':0,'E':0,'W':0}\n",
    "    turtleNew=turtle\n",
    "    a=arr[1:]\n",
    "    for i in range(0,len(arr)-1):\n",
    "        if arr[i] == \"NORTH\" and a[i] != \"SOUTH\":\n",
    "            turtle['N']+=1\n",
    "            #turtle['S']-=1\n",
    "        elif arr[i] == \"SOUTH\" and a[i] != \"NORTH\":\n",
    "            turtle['S']+=1\n",
    "            #turtle['N']-=1\n",
    "\n",
    "        elif arr[i] == \"EAST\" and a[i] != \"WEST\":\n",
    "            turtle['E']+=1\n",
    "            #turtle['W']-=1\n",
    "\n",
    "        elif arr[i] == \"WEST\" and a[i] != \"EAST\":\n",
    "            turtle['W']+=1\n",
    "            #turtle['E']-=1\n",
    "\n",
    "    print(turtle)"
   ]
  },
  {
   "cell_type": "code",
   "execution_count": 300,
   "metadata": {},
   "outputs": [
    {
     "output_type": "stream",
     "name": "stdout",
     "text": "{'N': 1, 'S': 2, 'E': 0, 'W': 1}\n"
    }
   ],
   "source": [
    "a = [\"NORTH\", \"SOUTH\", \"SOUTH\", \"EAST\", \"WEST\", \"NORTH\", \"WEST\"]\n",
    "dirReduc(a)"
   ]
  },
  {
   "cell_type": "code",
   "execution_count": 64,
   "metadata": {},
   "outputs": [],
   "source": [
    "def dirReduc(arr):\n",
    "    new=arr\n",
    "    for l in arr:\n",
    "       for dir in new:\n",
    "           \n",
    "\n",
    "        \"\"\"\n",
    "        if new[:-2] ==\"NORTH\" and l == \"SOUTH\":\n",
    "            new.pop()\n",
    "            new.pop()\n",
    "            print(new)\n",
    "        elif new[:-2]==\"SOUTH\" and l == \"NORTH\":\n",
    "            new.pop()\n",
    "            new.pop()\n",
    "            print(new)\n",
    "        elif new[:-2]==\"EAST\" and l == \"WEST\":\n",
    "            new.pop()\n",
    "            new.pop()\n",
    "            print(new)\n",
    "        elif new[:-2]==\"WEST\" and l == \"EAST\":\n",
    "            new.pop()\n",
    "            new.pop()\n",
    "            print(new)\n",
    "        #else:\n",
    "            #break\n",
    "      #  elif new[:-1]==False:\n",
    "        #    new.append(l)\n",
    "        \"\"\"\n",
    "    print(new) \n",
    "    \n"
   ]
  },
  {
   "cell_type": "code",
   "execution_count": 63,
   "metadata": {},
   "outputs": [
    {
     "output_type": "stream",
     "name": "stdout",
     "text": "['NORTH', 'SOUTH', 'SOUTH', 'EAST', 'WEST', 'NORTH', 'WEST']\n"
    }
   ],
   "source": [
    "a = [\"NORTH\", \"SOUTH\", \"SOUTH\", \"EAST\", \"WEST\", \"NORTH\", \"WEST\"]\n",
    "dirReduc(a)\n"
   ]
  }
 ],
 "metadata": {
  "language_info": {
   "codemirror_mode": {
    "name": "ipython",
    "version": 3
   },
   "file_extension": ".py",
   "mimetype": "text/x-python",
   "name": "python",
   "nbconvert_exporter": "python",
   "pygments_lexer": "ipython3",
   "version": "3.8.2-final"
  },
  "orig_nbformat": 2,
  "kernelspec": {
   "name": "python38264bit585e9d460b8c45068b4f9b4a7651b850",
   "display_name": "Python 3.8.2 64-bit"
  }
 },
 "nbformat": 4,
 "nbformat_minor": 2
}